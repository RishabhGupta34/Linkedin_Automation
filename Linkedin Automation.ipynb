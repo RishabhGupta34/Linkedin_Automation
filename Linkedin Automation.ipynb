{
 "cells": [
  {
   "cell_type": "code",
   "execution_count": null,
   "metadata": {},
   "outputs": [],
   "source": [
    "url=\"https://www.linkedin.com\"\n",
    "\n",
    "from selenium import webdriver\n",
    "browser=webdriver.Chrome()\n",
    "\n",
    "browser.get(url)\n",
    "\n",
    "browser.maximize_window()#Maximizing the window\n",
    "\n",
    "username=browser.find_element_by_id(\"login-email\")\n",
    "username.send_keys(input(\"Enter The Email of your LinkedIn Account\"))#Enter the email of your linkedin account in the prompt\n",
    "\n",
    "\n",
    "input_pass=browser.find_element_by_id(\"login-password\")\n",
    "from getpass import getpass\n",
    "password=getpass(\"Enter the password\")\n",
    "input_pass.send_keys(password)#enter the password in the prompt\n",
    "\n",
    "\n",
    "from selenium.webdriver.common.keys import Keys\n",
    "input_pass.send_keys(Keys.ENTER)\n",
    "\n",
    "browser.find_element_by_id('mynetwork-tab-icon').click()\n",
    "\n",
    "import time\n",
    "import random\n",
    "for i in range(300): #Enter the number of times to reload the network-page\n",
    "    if i!=0:\n",
    "        browser.refresh()\n",
    "    time.sleep(3)\n",
    "    connections=browser.find_elements_by_class_name('button-secondary-small')\n",
    "    for i in connections:\n",
    "        if i.is_displayed():\n",
    "            time.sleep(random.randint(2,3))\n",
    "            i.send_keys(Keys.SPACE)\n",
    "            print(\"done\") #Prints done for each connection made\n",
    "    \n",
    "    \n",
    "browser.close()"
   ]
  }
 ],
 "metadata": {
  "kernelspec": {
   "display_name": "Python 3",
   "language": "python",
   "name": "python3"
  },
  "language_info": {
   "codemirror_mode": {
    "name": "ipython",
    "version": 3
   },
   "file_extension": ".py",
   "mimetype": "text/x-python",
   "name": "python",
   "nbconvert_exporter": "python",
   "pygments_lexer": "ipython3",
   "version": "3.6.4"
  }
 },
 "nbformat": 4,
 "nbformat_minor": 2
}
